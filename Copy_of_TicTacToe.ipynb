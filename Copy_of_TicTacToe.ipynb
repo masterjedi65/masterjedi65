{
  "cells": [
    {
      "cell_type": "markdown",
      "metadata": {
        "id": "view-in-github",
        "colab_type": "text"
      },
      "source": [
        "<a href=\"https://colab.research.google.com/github/masterjedi65/masterjedi65/blob/main/Copy_of_TicTacToe.ipynb\" target=\"_parent\"><img src=\"https://colab.research.google.com/assets/colab-badge.svg\" alt=\"Open In Colab\"/></a>"
      ]
    },
    {
      "cell_type": "markdown",
      "metadata": {
        "id": "tz6XTWrBggs2"
      },
      "source": [
        "# Initialize the game board"
      ]
    },
    {
      "cell_type": "code",
      "execution_count": null,
      "metadata": {
        "id": "HQoD3YgDgkl-"
      },
      "outputs": [],
      "source": [
        "board = [\" \", \" \", \" \",\n",
        "         \" \", \" \", \" \",\n",
        "         \" \", \" \", \" \"]\n",
        "\n",
        "current_player = \"X\"\n",
        "game_running = True"
      ]
    },
    {
      "cell_type": "markdown",
      "metadata": {
        "id": "vUjCpkzGgoVv"
      },
      "source": [
        "# Function to show the current game board"
      ]
    },
    {
      "cell_type": "code",
      "execution_count": null,
      "metadata": {
        "id": "7xrh0poEgrb3"
      },
      "outputs": [],
      "source": [
        "def print_board():\n",
        "    print(f\"{board[0]}|{board[1]}|{board[2]}\")\n",
        "    print(f\"{board[3]}|{board[4]}|{board[5]}\")\n",
        "    print(f\"{board[6]}|{board[7]}|{board[8]}\")\n",
        "    print()"
      ]
    },
    {
      "cell_type": "markdown",
      "metadata": {
        "id": "I8Tv-U9sgsjC"
      },
      "source": [
        "# Complete the function to check if a player wins"
      ]
    },
    {
      "cell_type": "code",
      "execution_count": null,
      "metadata": {
        "id": "OtAXRfZYg2G3"
      },
      "outputs": [],
      "source": [
        "def check_win():\n",
        "    # rows\n",
        "    if board[0] == board[1] == board[2] != \" \": return True\n",
        "    if board[3] == board[4] == board[5] != \" \": return True\n",
        "    if board[6] == board[7] == board[8] != \" \": return True\n",
        "\n",
        "    # columns\n",
        "    if board[0] == board[3] == board[6] != \" \": return True\n",
        "    if board[1] == board[4] == board[7] != \" \": return True\n",
        "    if board[2] == board[5] == board[8] != \" \": return True\n",
        "\n",
        "    # TODO: diagonals (students fill in these 2 lines)\n",
        "    if board[0] == board[4] == board[8] != \" \": return True\n",
        "    if board[2] == board[4] == board[6] != \" \": return True\n",
        "\n",
        "    return False"
      ]
    },
    {
      "cell_type": "markdown",
      "metadata": {
        "id": "jSjaXn7Mg56F"
      },
      "source": [
        "# Function to check if the game is a tie"
      ]
    },
    {
      "cell_type": "code",
      "execution_count": null,
      "metadata": {
        "id": "0B_fBqX2g9PO"
      },
      "outputs": [],
      "source": [
        "def check_tie():\n",
        "    return \" \" not in board"
      ]
    },
    {
      "cell_type": "code",
      "execution_count": null,
      "metadata": {
        "colab": {
          "base_uri": "https://localhost:8080/"
        },
        "id": "iERg_Z_hhDMK",
        "outputId": "c6c8a8b7-0f12-41fc-f19b-c4309773bc3f"
      },
      "outputs": [
        {
          "output_type": "stream",
          "name": "stdout",
          "text": [
            " | | \n",
            " | | \n",
            " | | \n",
            "\n",
            "Player X, choose 1-9: 1\n",
            "X| | \n",
            " | | \n",
            " | | \n",
            "\n",
            "Player O, choose 1-9: 2\n",
            "X|O| \n",
            " | | \n",
            " | | \n",
            "\n",
            "Player X, choose 1-9: 3\n",
            "X|O|X\n",
            " | | \n",
            " | | \n",
            "\n",
            "Player O, choose 1-9: 4\n",
            "X|O|X\n",
            "O| | \n",
            " | | \n",
            "\n"
          ]
        }
      ],
      "source": [
        "while game_running:\n",
        "    print_board()\n",
        "\n",
        "    # Get the input of the current player\n",
        "    move = int(input(f\"Player {current_player}, choose 1-9: \")) - 1\n",
        "\n",
        "    # Update the board with the Player's move\n",
        "    if board[move] == \" \":\n",
        "        board[move] = current_player\n",
        "    else:\n",
        "        print(\"That spot is taken, try again.\\n\")\n",
        "        continue\n",
        "\n",
        "    # Check win\n",
        "    if check_win():\n",
        "        print_board()\n",
        "        print(f\"Player {current_player} wins!\")\n",
        "        break\n",
        "\n",
        "    # To-Do: Check tie\n",
        "    if check_tie():\n",
        "      print_board()\n",
        "      print(\"There is a tie!\")\n",
        "      break\n",
        "\n",
        "    # To-Do: Switch to the other player\n",
        "    if current_player == \"X\":\n",
        "       current_player = \"O\"\n",
        "    else:\n",
        "      current_player = \"X\"\n",
        "\n",
        "\n",
        "\n"
      ]
    },
    {
      "cell_type": "markdown",
      "metadata": {
        "id": "nyb30Am_g-4j"
      },
      "source": [
        "# Complete the main game loop"
      ]
    }
  ],
  "metadata": {
    "colab": {
      "provenance": [],
      "include_colab_link": true
    },
    "kernelspec": {
      "display_name": "Python 3",
      "name": "python3"
    },
    "language_info": {
      "name": "python"
    }
  },
  "nbformat": 4,
  "nbformat_minor": 0
}